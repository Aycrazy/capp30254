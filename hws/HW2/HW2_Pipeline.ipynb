{
 "cells": [
  {
   "cell_type": "code",
   "execution_count": 77,
   "metadata": {
    "collapsed": true
   },
   "outputs": [],
   "source": [
    "import csv\n",
    "import pandas as pd\n",
    "import numpy as np\n",
    "import re\n",
    "import matplotlib.pyplot as plt\n",
    "import matplotlib\n",
    "matplotlib.style.use('ggplot')\n",
    "%matplotlib inline\n",
    "import pylab as pl"
   ]
  },
  {
   "cell_type": "code",
   "execution_count": 27,
   "metadata": {
    "collapsed": true
   },
   "outputs": [],
   "source": [
    "def camel_to_snake(column_name):\n",
    "    \"\"\"\n",
    "    converts a string that is camelCase into snake_case\n",
    "    Example:\n",
    "        print camel_to_snake(\"javaLovesCamelCase\")\n",
    "        > java_loves_camel_case\n",
    "    See Also:\n",
    "        http://stackoverflow.com/questions/1175208/elegant-python-function-to-convert-camelcase-to-camel-case\n",
    "    \"\"\"\n",
    "    s1 = re.sub('(.)([A-Z][a-z]+)', r'\\1_\\2', column_name)\n",
    "    return re.sub('([a-z0-9])([A-Z])', r'\\1_\\2', s1).lower()\n",
    "\n",
    "def read(file_name):\n",
    "\n",
    "    df = pd.DataFrame()\n",
    "\n",
    "    pattern = r'[(?!=.)]([a-z]*)'\n",
    "    file_type = re.findall(pattern, file_name)[0]\n",
    "\n",
    "    assert file_type == 'csv'\n",
    "    with open(file_name, 'rt') as csvfile:\n",
    "        reader = csv.reader(csvfile, delimiter=',')\n",
    "        for index,row in enumerate(reader):\n",
    "            df = pd.concat([df,pd.DataFrame(row).transpose()])\n",
    "   \n",
    "    return df.reset_index(drop=True)\n",
    "\n",
    "def read_file(file_name):\n",
    "\n",
    "    pattern = r'[(?!=.)]([a-z]*)'\n",
    "    file_type = re.findall(pattern, file_name)[0]\n",
    "    \n",
    "    if file_type == 'csv':\n",
    "        df = pd.read_csv(file_name)\n",
    "      \n",
    "    elif file_type == 'xls':\n",
    "        df = pd.read_excel(file_name)\n",
    "    \n",
    "    return df"
   ]
  },
  {
   "cell_type": "code",
   "execution_count": 28,
   "metadata": {
    "collapsed": false
   },
   "outputs": [],
   "source": [
    "credit_data = read_file('credit-data.csv')"
   ]
  },
  {
   "cell_type": "code",
   "execution_count": 29,
   "metadata": {
    "collapsed": false,
    "scrolled": true
   },
   "outputs": [
    {
     "data": {
      "text/plain": [
       "Index(['PersonID', 'SeriousDlqin2yrs', 'RevolvingUtilizationOfUnsecuredLines',\n",
       "       'age', 'zipcode', 'NumberOfTime30-59DaysPastDueNotWorse', 'DebtRatio',\n",
       "       'MonthlyIncome', 'NumberOfOpenCreditLinesAndLoans',\n",
       "       'NumberOfTimes90DaysLate', 'NumberRealEstateLoansOrLines',\n",
       "       'NumberOfTime60-89DaysPastDueNotWorse', 'NumberOfDependents'],\n",
       "      dtype='object')"
      ]
     },
     "execution_count": 29,
     "metadata": {},
     "output_type": "execute_result"
    }
   ],
   "source": [
    "credit_data.columns"
   ]
  },
  {
   "cell_type": "code",
   "execution_count": 30,
   "metadata": {
    "collapsed": false
   },
   "outputs": [],
   "source": [
    "def list_describe(df,optional_string=None):\n",
    "    opt_columns = []\n",
    "    all_cols = {}\n",
    "    for index,column in enumerate(df.columns):\n",
    "        if optional_string:\n",
    "            if column.startswith(optional_string):\n",
    "                opt_columns.append(column)\n",
    "\n",
    "        print(df[str(column)].describe().to_frame(),'\\n')\n",
    "        if not index:\n",
    "            continue\n",
    "        all_cols[index] = camel_to_snake(column)\n",
    "    #if len(opt_columns):\n",
    "    return all_cols, opt_columns\n",
    "   #return all_cols"
   ]
  },
  {
   "cell_type": "markdown",
   "metadata": {},
   "source": [
    "At this point, it seems useful to inspect the distribution of the data by column"
   ]
  },
  {
   "cell_type": "code",
   "execution_count": 31,
   "metadata": {
    "collapsed": false
   },
   "outputs": [
    {
     "name": "stdout",
     "output_type": "stream",
     "text": [
      "            PersonID\n",
      "count  150000.000000\n",
      "mean    75000.500000\n",
      "std     43301.414527\n",
      "min         1.000000\n",
      "25%     37500.750000\n",
      "50%     75000.500000\n",
      "75%    112500.250000\n",
      "max    150000.000000 \n",
      "\n",
      "       SeriousDlqin2yrs\n",
      "count     150000.000000\n",
      "mean           0.066840\n",
      "std            0.249746\n",
      "min            0.000000\n",
      "25%            0.000000\n",
      "50%            0.000000\n",
      "75%            0.000000\n",
      "max            1.000000 \n",
      "\n",
      "       RevolvingUtilizationOfUnsecuredLines\n",
      "count                         150000.000000\n",
      "mean                               6.048438\n",
      "std                              249.755371\n",
      "min                                0.000000\n",
      "25%                                0.029867\n",
      "50%                                0.154181\n",
      "75%                                0.559046\n",
      "max                            50708.000000 \n",
      "\n",
      "                 age\n",
      "count  150000.000000\n",
      "mean       52.295207\n",
      "std        14.771866\n",
      "min         0.000000\n",
      "25%        41.000000\n",
      "50%        52.000000\n",
      "75%        63.000000\n",
      "max       109.000000 \n",
      "\n",
      "             zipcode\n",
      "count  150000.000000\n",
      "mean    60648.810013\n",
      "std        56.748197\n",
      "min     60601.000000\n",
      "25%     60625.000000\n",
      "50%     60629.000000\n",
      "75%     60644.000000\n",
      "max     60804.000000 \n",
      "\n",
      "       NumberOfTime30-59DaysPastDueNotWorse\n",
      "count                         150000.000000\n",
      "mean                               0.421033\n",
      "std                                4.192781\n",
      "min                                0.000000\n",
      "25%                                0.000000\n",
      "50%                                0.000000\n",
      "75%                                0.000000\n",
      "max                               98.000000 \n",
      "\n",
      "           DebtRatio\n",
      "count  150000.000000\n",
      "mean      353.005076\n",
      "std      2037.818523\n",
      "min         0.000000\n",
      "25%         0.175074\n",
      "50%         0.366508\n",
      "75%         0.868254\n",
      "max    329664.000000 \n",
      "\n",
      "       MonthlyIncome\n",
      "count   1.202690e+05\n",
      "mean    6.670221e+03\n",
      "std     1.438467e+04\n",
      "min     0.000000e+00\n",
      "25%              NaN\n",
      "50%              NaN\n",
      "75%              NaN\n",
      "max     3.008750e+06 \n",
      "\n",
      "       NumberOfOpenCreditLinesAndLoans\n",
      "count                    150000.000000\n",
      "mean                          8.452760\n",
      "std                           5.145951\n",
      "min                           0.000000\n",
      "25%                           5.000000\n",
      "50%                           8.000000\n",
      "75%                          11.000000\n",
      "max                          58.000000 \n",
      "\n",
      "       NumberOfTimes90DaysLate\n",
      "count            150000.000000\n",
      "mean                  0.265973\n",
      "std                   4.169304\n",
      "min                   0.000000\n",
      "25%                   0.000000\n",
      "50%                   0.000000\n",
      "75%                   0.000000\n",
      "max                  98.000000 \n",
      "\n",
      "       NumberRealEstateLoansOrLines\n",
      "count                 150000.000000\n",
      "mean                       1.018240\n",
      "std                        1.129771\n",
      "min                        0.000000\n",
      "25%                        0.000000\n",
      "50%                        1.000000\n",
      "75%                        2.000000\n",
      "max                       54.000000 \n",
      "\n",
      "       NumberOfTime60-89DaysPastDueNotWorse\n",
      "count                         150000.000000\n",
      "mean                               0.240387\n",
      "std                                4.155179\n",
      "min                                0.000000\n",
      "25%                                0.000000\n",
      "50%                                0.000000\n",
      "75%                                0.000000\n",
      "max                               98.000000 \n",
      "\n",
      "       NumberOfDependents\n",
      "count       146076.000000\n",
      "mean             0.757222\n",
      "std              1.115086\n",
      "min              0.000000\n",
      "25%                   NaN\n",
      "50%                   NaN\n",
      "75%                   NaN\n",
      "max             20.000000 \n",
      "\n"
     ]
    },
    {
     "name": "stderr",
     "output_type": "stream",
     "text": [
      "/Users/andrewyaspan/anaconda3/lib/python3.5/site-packages/numpy/lib/function_base.py:3834: RuntimeWarning: Invalid value encountered in percentile\n",
      "  RuntimeWarning)\n"
     ]
    }
   ],
   "source": [
    "all_cols, pt_columns = list_describe(credit_data,'NumberOfTime')"
   ]
  },
  {
   "cell_type": "code",
   "execution_count": 32,
   "metadata": {
    "collapsed": false
   },
   "outputs": [
    {
     "data": {
      "text/plain": [
       "{1: 'serious_dlqin2yrs',\n",
       " 2: 'revolving_utilization_of_unsecured_lines',\n",
       " 3: 'age',\n",
       " 4: 'zipcode',\n",
       " 5: 'number_of_time30-59_days_past_due_not_worse',\n",
       " 6: 'debt_ratio',\n",
       " 7: 'monthly_income',\n",
       " 8: 'number_of_open_credit_lines_and_loans',\n",
       " 9: 'number_of_times90_days_late',\n",
       " 10: 'number_real_estate_loans_or_lines',\n",
       " 11: 'number_of_time60-89_days_past_due_not_worse',\n",
       " 12: 'number_of_dependents'}"
      ]
     },
     "execution_count": 32,
     "metadata": {},
     "output_type": "execute_result"
    }
   ],
   "source": [
    "all_cols"
   ]
  },
  {
   "cell_type": "code",
   "execution_count": 33,
   "metadata": {
    "collapsed": false
   },
   "outputs": [],
   "source": [
    "def cross_vectors(df, var1, var2):\n",
    "    return pd.crosstab(df[var1], df[var2])"
   ]
  },
  {
   "cell_type": "code",
   "execution_count": 34,
   "metadata": {
    "collapsed": false
   },
   "outputs": [
    {
     "data": {
      "text/html": [
       "<div>\n",
       "<table border=\"1\" class=\"dataframe\">\n",
       "  <thead>\n",
       "    <tr style=\"text-align: right;\">\n",
       "      <th>SeriousDlqin2yrs</th>\n",
       "      <th>0</th>\n",
       "      <th>1</th>\n",
       "    </tr>\n",
       "    <tr>\n",
       "      <th>NumberOfTimes90DaysLate</th>\n",
       "      <th></th>\n",
       "      <th></th>\n",
       "    </tr>\n",
       "  </thead>\n",
       "  <tbody>\n",
       "    <tr>\n",
       "      <th>0</th>\n",
       "      <td>135108</td>\n",
       "      <td>6554</td>\n",
       "    </tr>\n",
       "    <tr>\n",
       "      <th>1</th>\n",
       "      <td>3478</td>\n",
       "      <td>1765</td>\n",
       "    </tr>\n",
       "    <tr>\n",
       "      <th>2</th>\n",
       "      <td>779</td>\n",
       "      <td>776</td>\n",
       "    </tr>\n",
       "    <tr>\n",
       "      <th>3</th>\n",
       "      <td>282</td>\n",
       "      <td>385</td>\n",
       "    </tr>\n",
       "    <tr>\n",
       "      <th>4</th>\n",
       "      <td>96</td>\n",
       "      <td>195</td>\n",
       "    </tr>\n",
       "    <tr>\n",
       "      <th>5</th>\n",
       "      <td>48</td>\n",
       "      <td>83</td>\n",
       "    </tr>\n",
       "    <tr>\n",
       "      <th>6</th>\n",
       "      <td>32</td>\n",
       "      <td>48</td>\n",
       "    </tr>\n",
       "    <tr>\n",
       "      <th>7</th>\n",
       "      <td>7</td>\n",
       "      <td>31</td>\n",
       "    </tr>\n",
       "    <tr>\n",
       "      <th>8</th>\n",
       "      <td>6</td>\n",
       "      <td>15</td>\n",
       "    </tr>\n",
       "    <tr>\n",
       "      <th>9</th>\n",
       "      <td>5</td>\n",
       "      <td>14</td>\n",
       "    </tr>\n",
       "    <tr>\n",
       "      <th>10</th>\n",
       "      <td>3</td>\n",
       "      <td>5</td>\n",
       "    </tr>\n",
       "    <tr>\n",
       "      <th>11</th>\n",
       "      <td>2</td>\n",
       "      <td>3</td>\n",
       "    </tr>\n",
       "    <tr>\n",
       "      <th>12</th>\n",
       "      <td>1</td>\n",
       "      <td>1</td>\n",
       "    </tr>\n",
       "    <tr>\n",
       "      <th>13</th>\n",
       "      <td>2</td>\n",
       "      <td>2</td>\n",
       "    </tr>\n",
       "    <tr>\n",
       "      <th>14</th>\n",
       "      <td>1</td>\n",
       "      <td>1</td>\n",
       "    </tr>\n",
       "    <tr>\n",
       "      <th>15</th>\n",
       "      <td>2</td>\n",
       "      <td>0</td>\n",
       "    </tr>\n",
       "    <tr>\n",
       "      <th>17</th>\n",
       "      <td>0</td>\n",
       "      <td>1</td>\n",
       "    </tr>\n",
       "    <tr>\n",
       "      <th>96</th>\n",
       "      <td>1</td>\n",
       "      <td>4</td>\n",
       "    </tr>\n",
       "    <tr>\n",
       "      <th>98</th>\n",
       "      <td>121</td>\n",
       "      <td>143</td>\n",
       "    </tr>\n",
       "  </tbody>\n",
       "</table>\n",
       "</div>"
      ],
      "text/plain": [
       "SeriousDlqin2yrs              0     1\n",
       "NumberOfTimes90DaysLate              \n",
       "0                        135108  6554\n",
       "1                          3478  1765\n",
       "2                           779   776\n",
       "3                           282   385\n",
       "4                            96   195\n",
       "5                            48    83\n",
       "6                            32    48\n",
       "7                             7    31\n",
       "8                             6    15\n",
       "9                             5    14\n",
       "10                            3     5\n",
       "11                            2     3\n",
       "12                            1     1\n",
       "13                            2     2\n",
       "14                            1     1\n",
       "15                            2     0\n",
       "17                            0     1\n",
       "96                            1     4\n",
       "98                          121   143"
      ]
     },
     "execution_count": 34,
     "metadata": {},
     "output_type": "execute_result"
    }
   ],
   "source": [
    "cross_vectors(credit_data, 'NumberOfTimes90DaysLate', 'SeriousDlqin2yrs')"
   ]
  },
  {
   "cell_type": "markdown",
   "metadata": {},
   "source": [
    "NOTE: All that are missing monthly_income are also missing number of dependents"
   ]
  },
  {
   "cell_type": "code",
   "execution_count": 35,
   "metadata": {
    "collapsed": false
   },
   "outputs": [],
   "source": [
    "data_dict =read_file('Data Dictionary.xls')"
   ]
  },
  {
   "cell_type": "code",
   "execution_count": 36,
   "metadata": {
    "collapsed": false
   },
   "outputs": [
    {
     "data": {
      "text/html": [
       "<div>\n",
       "<table border=\"1\" class=\"dataframe\">\n",
       "  <thead>\n",
       "    <tr style=\"text-align: right;\">\n",
       "      <th></th>\n",
       "      <th>Variable Name</th>\n",
       "      <th>Description</th>\n",
       "      <th>Type</th>\n",
       "    </tr>\n",
       "  </thead>\n",
       "  <tbody>\n",
       "    <tr>\n",
       "      <th>0</th>\n",
       "      <td>SeriousDlqin2yrs</td>\n",
       "      <td>Person experienced 90 days past due delinquenc...</td>\n",
       "      <td>Y/N</td>\n",
       "    </tr>\n",
       "    <tr>\n",
       "      <th>1</th>\n",
       "      <td>RevolvingUtilizationOfUnsecuredLines</td>\n",
       "      <td>Total balance on credit cards and personal lin...</td>\n",
       "      <td>percentage</td>\n",
       "    </tr>\n",
       "    <tr>\n",
       "      <th>2</th>\n",
       "      <td>age</td>\n",
       "      <td>Age of borrower in years</td>\n",
       "      <td>integer</td>\n",
       "    </tr>\n",
       "    <tr>\n",
       "      <th>3</th>\n",
       "      <td>NumberOfTime30-59DaysPastDueNotWorse</td>\n",
       "      <td>Number of times borrower has been 30-59 days p...</td>\n",
       "      <td>integer</td>\n",
       "    </tr>\n",
       "    <tr>\n",
       "      <th>4</th>\n",
       "      <td>zipcode</td>\n",
       "      <td>zipcode of the borrower</td>\n",
       "      <td>interget/string</td>\n",
       "    </tr>\n",
       "    <tr>\n",
       "      <th>5</th>\n",
       "      <td>DebtRatio</td>\n",
       "      <td>Monthly debt payments, alimony,living costs di...</td>\n",
       "      <td>percentage</td>\n",
       "    </tr>\n",
       "    <tr>\n",
       "      <th>6</th>\n",
       "      <td>MonthlyIncome</td>\n",
       "      <td>Monthly income</td>\n",
       "      <td>real</td>\n",
       "    </tr>\n",
       "    <tr>\n",
       "      <th>7</th>\n",
       "      <td>NumberOfOpenCreditLinesAndLoans</td>\n",
       "      <td>Number of Open loans (installment like car loa...</td>\n",
       "      <td>integer</td>\n",
       "    </tr>\n",
       "    <tr>\n",
       "      <th>8</th>\n",
       "      <td>NumberOfTimes90DaysLate</td>\n",
       "      <td>Number of times borrower has been 90 days or m...</td>\n",
       "      <td>integer</td>\n",
       "    </tr>\n",
       "    <tr>\n",
       "      <th>9</th>\n",
       "      <td>NumberRealEstateLoansOrLines</td>\n",
       "      <td>Number of mortgage and real estate loans inclu...</td>\n",
       "      <td>integer</td>\n",
       "    </tr>\n",
       "    <tr>\n",
       "      <th>10</th>\n",
       "      <td>NumberOfTime60-89DaysPastDueNotWorse</td>\n",
       "      <td>Number of times borrower has been 60-89 days p...</td>\n",
       "      <td>integer</td>\n",
       "    </tr>\n",
       "    <tr>\n",
       "      <th>11</th>\n",
       "      <td>NumberOfDependents</td>\n",
       "      <td>Number of dependents in family excluding thems...</td>\n",
       "      <td>integer</td>\n",
       "    </tr>\n",
       "  </tbody>\n",
       "</table>\n",
       "</div>"
      ],
      "text/plain": [
       "                           Variable Name  \\\n",
       "0                       SeriousDlqin2yrs   \n",
       "1   RevolvingUtilizationOfUnsecuredLines   \n",
       "2                                    age   \n",
       "3   NumberOfTime30-59DaysPastDueNotWorse   \n",
       "4                                zipcode   \n",
       "5                              DebtRatio   \n",
       "6                          MonthlyIncome   \n",
       "7        NumberOfOpenCreditLinesAndLoans   \n",
       "8                NumberOfTimes90DaysLate   \n",
       "9           NumberRealEstateLoansOrLines   \n",
       "10  NumberOfTime60-89DaysPastDueNotWorse   \n",
       "11                    NumberOfDependents   \n",
       "\n",
       "                                          Description             Type  \n",
       "0   Person experienced 90 days past due delinquenc...              Y/N  \n",
       "1   Total balance on credit cards and personal lin...       percentage  \n",
       "2                            Age of borrower in years          integer  \n",
       "3   Number of times borrower has been 30-59 days p...          integer  \n",
       "4                             zipcode of the borrower  interget/string  \n",
       "5   Monthly debt payments, alimony,living costs di...       percentage  \n",
       "6                                      Monthly income             real  \n",
       "7   Number of Open loans (installment like car loa...          integer  \n",
       "8   Number of times borrower has been 90 days or m...          integer  \n",
       "9   Number of mortgage and real estate loans inclu...          integer  \n",
       "10  Number of times borrower has been 60-89 days p...          integer  \n",
       "11  Number of dependents in family excluding thems...          integer  "
      ]
     },
     "execution_count": 36,
     "metadata": {},
     "output_type": "execute_result"
    }
   ],
   "source": [
    "data_dict"
   ]
  },
  {
   "cell_type": "code",
   "execution_count": 37,
   "metadata": {
    "collapsed": false
   },
   "outputs": [
    {
     "data": {
      "text/html": [
       "<div>\n",
       "<table border=\"1\" class=\"dataframe\">\n",
       "  <thead>\n",
       "    <tr style=\"text-align: right;\">\n",
       "      <th></th>\n",
       "      <th>0</th>\n",
       "    </tr>\n",
       "    <tr>\n",
       "      <th>zipcode</th>\n",
       "      <th></th>\n",
       "    </tr>\n",
       "  </thead>\n",
       "  <tbody>\n",
       "    <tr>\n",
       "      <th>60601</th>\n",
       "      <td>16599</td>\n",
       "    </tr>\n",
       "    <tr>\n",
       "      <th>60618</th>\n",
       "      <td>16612</td>\n",
       "    </tr>\n",
       "    <tr>\n",
       "      <th>60625</th>\n",
       "      <td>33514</td>\n",
       "    </tr>\n",
       "    <tr>\n",
       "      <th>60629</th>\n",
       "      <td>16840</td>\n",
       "    </tr>\n",
       "    <tr>\n",
       "      <th>60637</th>\n",
       "      <td>16625</td>\n",
       "    </tr>\n",
       "    <tr>\n",
       "      <th>60644</th>\n",
       "      <td>16581</td>\n",
       "    </tr>\n",
       "    <tr>\n",
       "      <th>60657</th>\n",
       "      <td>16624</td>\n",
       "    </tr>\n",
       "    <tr>\n",
       "      <th>60804</th>\n",
       "      <td>16605</td>\n",
       "    </tr>\n",
       "  </tbody>\n",
       "</table>\n",
       "</div>"
      ],
      "text/plain": [
       "             0\n",
       "zipcode       \n",
       "60601    16599\n",
       "60618    16612\n",
       "60625    33514\n",
       "60629    16840\n",
       "60637    16625\n",
       "60644    16581\n",
       "60657    16624\n",
       "60804    16605"
      ]
     },
     "execution_count": 37,
     "metadata": {},
     "output_type": "execute_result"
    }
   ],
   "source": [
    "credit_data.groupby('zipcode').size().to_frame()"
   ]
  },
  {
   "cell_type": "code",
   "execution_count": 38,
   "metadata": {
    "collapsed": false
   },
   "outputs": [],
   "source": [
    "def check_na(df):\n",
    "    df_lng = pd.melt(df)\n",
    "    null_vars = df_lng.value.isnull()\n",
    "    return pd.crosstab(df_lng.variable, null_vars)"
   ]
  },
  {
   "cell_type": "code",
   "execution_count": 39,
   "metadata": {
    "collapsed": false
   },
   "outputs": [],
   "source": [
    "null_monthly_income_or_null_dependents = credit_data[credit_data.MonthlyIncome.isnull()| credit_data.NumberOfDependents.isnull()]\n",
    "null_monthly_income_alone = credit_data[credit_data.MonthlyIncome.isnull()]\n",
    "\n",
    "def check_diff(df1,df2):\n",
    "    diff = set(df1.index)-set(df2.index)\n",
    "    return(len(diff))"
   ]
  },
  {
   "cell_type": "code",
   "execution_count": 40,
   "metadata": {
    "collapsed": false
   },
   "outputs": [
    {
     "data": {
      "text/plain": [
       "0"
      ]
     },
     "execution_count": 40,
     "metadata": {},
     "output_type": "execute_result"
    }
   ],
   "source": [
    "check_diff(null_monthly_income_alone,null_monthly_income_or_null_dependents)"
   ]
  },
  {
   "cell_type": "code",
   "execution_count": 41,
   "metadata": {
    "collapsed": false
   },
   "outputs": [],
   "source": [
    "from sklearn.cross_validation import train_test_split\n",
    "\n",
    "def cross_validate(X,y):\n",
    "    #Output:X_train, X_test, y_train, y_test \n",
    "    return train_test_split(X, y, test_size = .2, random_state = 0)"
   ]
  },
  {
   "cell_type": "code",
   "execution_count": 42,
   "metadata": {
    "collapsed": false
   },
   "outputs": [],
   "source": [
    "\n",
    "def preprocess_by_mean(file_name):\n",
    "    df = df.fillna(df.mean())\n",
    "    return df\n",
    "\n",
    "\n",
    "from sklearn.preprocessing import Imputer\n",
    "def preprocess_imputer(credit_data):\n",
    "    imputer = Imputer(missing_values='NaN', strategy = 'median', axis = 0)\n",
    "    imputer = imputer.fit(credit_data)\n",
    "    credit_data= imputer.transform(credit_data)\n",
    "    return credit_data"
   ]
  },
  {
   "cell_type": "code",
   "execution_count": 43,
   "metadata": {
    "collapsed": false
   },
   "outputs": [
    {
     "data": {
      "text/html": [
       "<div>\n",
       "<table border=\"1\" class=\"dataframe\">\n",
       "  <thead>\n",
       "    <tr style=\"text-align: right;\">\n",
       "      <th></th>\n",
       "      <th>serious_dlqin2yrs</th>\n",
       "      <th>revolving_utilization_of_unsecured_lines</th>\n",
       "      <th>age</th>\n",
       "      <th>zipcode</th>\n",
       "      <th>number_of_time30-59_days_past_due_not_worse</th>\n",
       "      <th>debt_ratio</th>\n",
       "      <th>monthly_income</th>\n",
       "      <th>number_of_open_credit_lines_and_loans</th>\n",
       "      <th>number_of_times90_days_late</th>\n",
       "      <th>number_real_estate_loans_or_lines</th>\n",
       "      <th>number_of_time60-89_days_past_due_not_worse</th>\n",
       "      <th>number_of_dependents</th>\n",
       "    </tr>\n",
       "  </thead>\n",
       "  <tbody>\n",
       "    <tr>\n",
       "      <th>0</th>\n",
       "      <td>1.0</td>\n",
       "      <td>0.766127</td>\n",
       "      <td>45.0</td>\n",
       "      <td>60644.0</td>\n",
       "      <td>2.0</td>\n",
       "      <td>0.802982</td>\n",
       "      <td>9120.0</td>\n",
       "      <td>13.0</td>\n",
       "      <td>0.0</td>\n",
       "      <td>6.0</td>\n",
       "      <td>0.0</td>\n",
       "      <td>2.0</td>\n",
       "    </tr>\n",
       "    <tr>\n",
       "      <th>1</th>\n",
       "      <td>0.0</td>\n",
       "      <td>0.957151</td>\n",
       "      <td>40.0</td>\n",
       "      <td>60637.0</td>\n",
       "      <td>0.0</td>\n",
       "      <td>0.121876</td>\n",
       "      <td>2600.0</td>\n",
       "      <td>4.0</td>\n",
       "      <td>0.0</td>\n",
       "      <td>0.0</td>\n",
       "      <td>0.0</td>\n",
       "      <td>1.0</td>\n",
       "    </tr>\n",
       "    <tr>\n",
       "      <th>2</th>\n",
       "      <td>0.0</td>\n",
       "      <td>0.658180</td>\n",
       "      <td>38.0</td>\n",
       "      <td>60601.0</td>\n",
       "      <td>1.0</td>\n",
       "      <td>0.085113</td>\n",
       "      <td>3042.0</td>\n",
       "      <td>2.0</td>\n",
       "      <td>1.0</td>\n",
       "      <td>0.0</td>\n",
       "      <td>0.0</td>\n",
       "      <td>0.0</td>\n",
       "    </tr>\n",
       "    <tr>\n",
       "      <th>3</th>\n",
       "      <td>0.0</td>\n",
       "      <td>0.233810</td>\n",
       "      <td>30.0</td>\n",
       "      <td>60601.0</td>\n",
       "      <td>0.0</td>\n",
       "      <td>0.036050</td>\n",
       "      <td>3300.0</td>\n",
       "      <td>5.0</td>\n",
       "      <td>0.0</td>\n",
       "      <td>0.0</td>\n",
       "      <td>0.0</td>\n",
       "      <td>0.0</td>\n",
       "    </tr>\n",
       "    <tr>\n",
       "      <th>4</th>\n",
       "      <td>0.0</td>\n",
       "      <td>0.907239</td>\n",
       "      <td>49.0</td>\n",
       "      <td>60625.0</td>\n",
       "      <td>1.0</td>\n",
       "      <td>0.024926</td>\n",
       "      <td>63588.0</td>\n",
       "      <td>7.0</td>\n",
       "      <td>0.0</td>\n",
       "      <td>1.0</td>\n",
       "      <td>0.0</td>\n",
       "      <td>0.0</td>\n",
       "    </tr>\n",
       "  </tbody>\n",
       "</table>\n",
       "</div>"
      ],
      "text/plain": [
       "   serious_dlqin2yrs  revolving_utilization_of_unsecured_lines   age  zipcode  \\\n",
       "0                1.0                                  0.766127  45.0  60644.0   \n",
       "1                0.0                                  0.957151  40.0  60637.0   \n",
       "2                0.0                                  0.658180  38.0  60601.0   \n",
       "3                0.0                                  0.233810  30.0  60601.0   \n",
       "4                0.0                                  0.907239  49.0  60625.0   \n",
       "\n",
       "   number_of_time30-59_days_past_due_not_worse  debt_ratio  monthly_income  \\\n",
       "0                                          2.0    0.802982          9120.0   \n",
       "1                                          0.0    0.121876          2600.0   \n",
       "2                                          1.0    0.085113          3042.0   \n",
       "3                                          0.0    0.036050          3300.0   \n",
       "4                                          1.0    0.024926         63588.0   \n",
       "\n",
       "   number_of_open_credit_lines_and_loans  number_of_times90_days_late  \\\n",
       "0                                   13.0                          0.0   \n",
       "1                                    4.0                          0.0   \n",
       "2                                    2.0                          1.0   \n",
       "3                                    5.0                          0.0   \n",
       "4                                    7.0                          0.0   \n",
       "\n",
       "   number_real_estate_loans_or_lines  \\\n",
       "0                                6.0   \n",
       "1                                0.0   \n",
       "2                                0.0   \n",
       "3                                0.0   \n",
       "4                                1.0   \n",
       "\n",
       "   number_of_time60-89_days_past_due_not_worse  number_of_dependents  \n",
       "0                                          0.0                   2.0  \n",
       "1                                          0.0                   1.0  \n",
       "2                                          0.0                   0.0  \n",
       "3                                          0.0                   0.0  \n",
       "4                                          0.0                   0.0  "
      ]
     },
     "execution_count": 43,
     "metadata": {},
     "output_type": "execute_result"
    }
   ],
   "source": [
    "credit_imputed = preprocess_imputer(credit_data)\n",
    "#credit_imputed\n",
    "credit_imputed = pd.DataFrame(credit_imputed).drop(0,axis=1).rename(columns = all_cols)\n",
    "credit_imputed.number_of_dependents = credit_imputed.number_of_dependents.fillna(0)\n",
    "credit_imputed.head()"
   ]
  },
  {
   "cell_type": "markdown",
   "metadata": {},
   "source": [
    "According to the following article: #https://www.consumerfinance.gov/askcfpb/1791/what-debt-income-ratio-why-43-debt-income-ratio-important.html\n",
    "having a debt-income-ratio below 43% is ideal"
   ]
  },
  {
   "cell_type": "code",
   "execution_count": 124,
   "metadata": {
    "collapsed": false
   },
   "outputs": [],
   "source": [
    "very_high = credit_imputed.debt_ratio > 100.000000\n",
    "credit_imputed[very_high].debt_ratio.describe()\n",
    "len(credit_imputed[very_high])/len(credit_imputed)\n",
    "need_dummies = []\n",
    "#http://www.investopedia.com/university/ratios/debt/ratio2.asp\n",
    "\n",
    "group_names = ['dr_very_low','dr_low','dr_moderately_low','dr_slightly_high','dr_high','dr_extremely_high']\n",
    "bins = [float(-1),float(.20),float(.40),float(.60),float(.80),float(1.00),float(329665)]\n",
    "dr_cat = 'dr_category'\n",
    "need_dummies.append(dr_cat)\n",
    "credit_imputed[dr_cat] = pd.cut(credit_imputed.debt_ratio, bins, labels=group_names)\n"
   ]
  },
  {
   "cell_type": "markdown",
   "metadata": {},
   "source": [
    "According to the following source: http://www.creditcards.com/credit-card-news/credit-utilization-fico-1270.php. It is good to have a revolving utilization rate below 30%"
   ]
  },
  {
   "cell_type": "code",
   "execution_count": 125,
   "metadata": {
    "collapsed": false
   },
   "outputs": [],
   "source": [
    "very_high = credit_imputed.revolving_utilization_of_unsecured_lines > 1.000000\n",
    "under_or_at_100 = credit_imputed.revolving_utilization_of_unsecured_lines <= 1.000000\n",
    "credit_imputed[very_high].revolving_utilization_of_unsecured_lines.describe()\n",
    "credit_imputed[under_or_at_100].revolving_utilization_of_unsecured_lines.describe()\n",
    "group_names = ['rvus_low','rvus_moderately_low', 'rvus_high','rvus_extremely_high']\n",
    "bins = [float(-1),float(.33),float(.66),float(1.00),float(507089)]\n",
    "rvus = 'rvus_category'\n",
    "need_dummies.append(rvus)\n",
    "credit_imputed['rvus_category'] = pd.cut(credit_imputed.revolving_utilization_of_unsecured_lines, bins, labels=group_names)\n"
   ]
  },
  {
   "cell_type": "code",
   "execution_count": 126,
   "metadata": {
    "collapsed": false
   },
   "outputs": [
    {
     "data": {
      "text/plain": [
       "count    150000.000000\n",
       "mean          6.048438\n",
       "std         249.755371\n",
       "min           0.000000\n",
       "25%           0.029867\n",
       "50%           0.154181\n",
       "75%           0.559046\n",
       "max       50708.000000\n",
       "Name: revolving_utilization_of_unsecured_lines, dtype: float64"
      ]
     },
     "execution_count": 126,
     "metadata": {},
     "output_type": "execute_result"
    }
   ],
   "source": [
    "credit_imputed.revolving_utilization_of_unsecured_lines.describe()"
   ]
  },
  {
   "cell_type": "code",
   "execution_count": 127,
   "metadata": {
    "collapsed": false
   },
   "outputs": [
    {
     "data": {
      "text/html": [
       "<div>\n",
       "<table border=\"1\" class=\"dataframe\">\n",
       "  <thead>\n",
       "    <tr style=\"text-align: right;\">\n",
       "      <th>value</th>\n",
       "      <th>False</th>\n",
       "    </tr>\n",
       "    <tr>\n",
       "      <th>variable</th>\n",
       "      <th></th>\n",
       "    </tr>\n",
       "  </thead>\n",
       "  <tbody>\n",
       "    <tr>\n",
       "      <th>age</th>\n",
       "      <td>150000</td>\n",
       "    </tr>\n",
       "    <tr>\n",
       "      <th>debt_ratio</th>\n",
       "      <td>150000</td>\n",
       "    </tr>\n",
       "    <tr>\n",
       "      <th>dr_category</th>\n",
       "      <td>150000</td>\n",
       "    </tr>\n",
       "    <tr>\n",
       "      <th>monthly_income</th>\n",
       "      <td>150000</td>\n",
       "    </tr>\n",
       "    <tr>\n",
       "      <th>number_of_dependents</th>\n",
       "      <td>150000</td>\n",
       "    </tr>\n",
       "    <tr>\n",
       "      <th>number_of_open_credit_lines_and_loans</th>\n",
       "      <td>150000</td>\n",
       "    </tr>\n",
       "    <tr>\n",
       "      <th>number_of_time30-59_days_past_due_not_worse</th>\n",
       "      <td>150000</td>\n",
       "    </tr>\n",
       "    <tr>\n",
       "      <th>number_of_time60-89_days_past_due_not_worse</th>\n",
       "      <td>150000</td>\n",
       "    </tr>\n",
       "    <tr>\n",
       "      <th>number_of_times90_days_late</th>\n",
       "      <td>150000</td>\n",
       "    </tr>\n",
       "    <tr>\n",
       "      <th>number_real_estate_loans_or_lines</th>\n",
       "      <td>150000</td>\n",
       "    </tr>\n",
       "    <tr>\n",
       "      <th>revolving_utilization_of_unsecured_lines</th>\n",
       "      <td>150000</td>\n",
       "    </tr>\n",
       "    <tr>\n",
       "      <th>rvus_category</th>\n",
       "      <td>150000</td>\n",
       "    </tr>\n",
       "    <tr>\n",
       "      <th>serious_dlqin2yrs</th>\n",
       "      <td>150000</td>\n",
       "    </tr>\n",
       "    <tr>\n",
       "      <th>zipcode</th>\n",
       "      <td>150000</td>\n",
       "    </tr>\n",
       "  </tbody>\n",
       "</table>\n",
       "</div>"
      ],
      "text/plain": [
       "value                                         False\n",
       "variable                                           \n",
       "age                                          150000\n",
       "debt_ratio                                   150000\n",
       "dr_category                                  150000\n",
       "monthly_income                               150000\n",
       "number_of_dependents                         150000\n",
       "number_of_open_credit_lines_and_loans        150000\n",
       "number_of_time30-59_days_past_due_not_worse  150000\n",
       "number_of_time60-89_days_past_due_not_worse  150000\n",
       "number_of_times90_days_late                  150000\n",
       "number_real_estate_loans_or_lines            150000\n",
       "revolving_utilization_of_unsecured_lines     150000\n",
       "rvus_category                                150000\n",
       "serious_dlqin2yrs                            150000\n",
       "zipcode                                      150000"
      ]
     },
     "execution_count": 127,
     "metadata": {},
     "output_type": "execute_result"
    }
   ],
   "source": [
    "\n",
    "check_na(credit_imputed)"
   ]
  },
  {
   "cell_type": "code",
   "execution_count": 134,
   "metadata": {
    "collapsed": true
   },
   "outputs": [],
   "source": [
    "from sklearn.preprocessing import LabelEncoder, OneHotEncoder\n",
    "#This was not working with my dataset for some reason, I kept getting-->\n",
    "    #ValueError: could not convert string to float: 'High'\n",
    "def process_categorical(X,cat_col):\n",
    "    labelencoder_X = LabelEncoder()\n",
    "    X[:,cat_col] = labelencoder_X.fit_transform(X[:,cat_col])\n",
    "    #onehotencoder = OneHotEncoder(categorical_features = [cat_col])\n",
    "    #X = onehotencoder.fit_transform(X).toarray()\n",
    "    return X"
   ]
  },
  {
   "cell_type": "code",
   "execution_count": 129,
   "metadata": {
    "collapsed": false
   },
   "outputs": [],
   "source": [
    "def add_dummies(df,need_dummies):\n",
    "    new_cols = pd.DataFrame()\n",
    "    for col in need_dummies:\n",
    "        #print(np.array(df[col]))\n",
    "        new_cols = pd.concat([new_cols.reset_index(drop=True),pd.get_dummies(df[col])],axis=1)\n",
    "    #print(new_cols)\n",
    "    df_w_dummies = pd.concat([df,new_cols],axis=1).reset_index(drop=True)\n",
    "    return df_w_dummies.drop(df_w_dummies[['rvus_category','dr_category']],axis=1)\n",
    "        "
   ]
  },
  {
   "cell_type": "code",
   "execution_count": 145,
   "metadata": {
    "collapsed": false
   },
   "outputs": [],
   "source": [
    "credit_x = credit_imputed.iloc[:,1:]\n",
    "credit_y = credit_imputed.iloc[:,:1]\n",
    "\n",
    "\n",
    "exp= process_categorical(np.array(credit_x),-2)\n",
    "exp= process_categorical(exp,-1)\n",
    "\n",
    "credit_x_w_dummies = add_dummies(credit_x,need_dummies)\n",
    "\n",
    "#credit_x_w_dummies = \n",
    "\n",
    "X_train, X_test, y_train, y_test = cross_validate(credit_x_w_dummies,credit_y)\n",
    "\n",
    "X_train_sk_cat, X_test_sk_cat, y_train_sk_cat, y_test_sk_cat = cross_validate(exp,credit_y)"
   ]
  },
  {
   "cell_type": "code",
   "execution_count": 146,
   "metadata": {
    "collapsed": false
   },
   "outputs": [
    {
     "data": {
      "text/html": [
       "<div>\n",
       "<table border=\"1\" class=\"dataframe\">\n",
       "  <thead>\n",
       "    <tr style=\"text-align: right;\">\n",
       "      <th></th>\n",
       "      <th>0</th>\n",
       "      <th>1</th>\n",
       "      <th>2</th>\n",
       "      <th>3</th>\n",
       "      <th>4</th>\n",
       "      <th>5</th>\n",
       "      <th>6</th>\n",
       "      <th>7</th>\n",
       "      <th>8</th>\n",
       "      <th>9</th>\n",
       "      <th>10</th>\n",
       "      <th>11</th>\n",
       "      <th>12</th>\n",
       "    </tr>\n",
       "  </thead>\n",
       "  <tbody>\n",
       "    <tr>\n",
       "      <th>0</th>\n",
       "      <td>0.66453</td>\n",
       "      <td>82</td>\n",
       "      <td>60637</td>\n",
       "      <td>1</td>\n",
       "      <td>0.653724</td>\n",
       "      <td>6000</td>\n",
       "      <td>11</td>\n",
       "      <td>0</td>\n",
       "      <td>0</td>\n",
       "      <td>0</td>\n",
       "      <td>0</td>\n",
       "      <td>4</td>\n",
       "      <td>1</td>\n",
       "    </tr>\n",
       "    <tr>\n",
       "      <th>1</th>\n",
       "      <td>0.813834</td>\n",
       "      <td>48</td>\n",
       "      <td>60629</td>\n",
       "      <td>0</td>\n",
       "      <td>0.0570702</td>\n",
       "      <td>2750</td>\n",
       "      <td>9</td>\n",
       "      <td>0</td>\n",
       "      <td>0</td>\n",
       "      <td>0</td>\n",
       "      <td>0</td>\n",
       "      <td>5</td>\n",
       "      <td>1</td>\n",
       "    </tr>\n",
       "    <tr>\n",
       "      <th>2</th>\n",
       "      <td>0.0706169</td>\n",
       "      <td>58</td>\n",
       "      <td>60601</td>\n",
       "      <td>0</td>\n",
       "      <td>0.176213</td>\n",
       "      <td>11400</td>\n",
       "      <td>9</td>\n",
       "      <td>0</td>\n",
       "      <td>2</td>\n",
       "      <td>0</td>\n",
       "      <td>1</td>\n",
       "      <td>5</td>\n",
       "      <td>2</td>\n",
       "    </tr>\n",
       "    <tr>\n",
       "      <th>3</th>\n",
       "      <td>1</td>\n",
       "      <td>45</td>\n",
       "      <td>60625</td>\n",
       "      <td>0</td>\n",
       "      <td>0.687607</td>\n",
       "      <td>1750</td>\n",
       "      <td>5</td>\n",
       "      <td>0</td>\n",
       "      <td>1</td>\n",
       "      <td>0</td>\n",
       "      <td>2</td>\n",
       "      <td>4</td>\n",
       "      <td>1</td>\n",
       "    </tr>\n",
       "    <tr>\n",
       "      <th>4</th>\n",
       "      <td>0.893872</td>\n",
       "      <td>36</td>\n",
       "      <td>60618</td>\n",
       "      <td>0</td>\n",
       "      <td>0.777778</td>\n",
       "      <td>3500</td>\n",
       "      <td>10</td>\n",
       "      <td>0</td>\n",
       "      <td>1</td>\n",
       "      <td>0</td>\n",
       "      <td>0</td>\n",
       "      <td>4</td>\n",
       "      <td>1</td>\n",
       "    </tr>\n",
       "  </tbody>\n",
       "</table>\n",
       "</div>"
      ],
      "text/plain": [
       "          0   1      2  3          4      5   6  7  8  9  10 11 12\n",
       "0    0.66453  82  60637  1   0.653724   6000  11  0  0  0  0  4  1\n",
       "1   0.813834  48  60629  0  0.0570702   2750   9  0  0  0  0  5  1\n",
       "2  0.0706169  58  60601  0   0.176213  11400   9  0  2  0  1  5  2\n",
       "3          1  45  60625  0   0.687607   1750   5  0  1  0  2  4  1\n",
       "4   0.893872  36  60618  0   0.777778   3500  10  0  1  0  0  4  1"
      ]
     },
     "execution_count": 146,
     "metadata": {},
     "output_type": "execute_result"
    }
   ],
   "source": [
    "pd.DataFrame(X_train_sk_cat).head()"
   ]
  },
  {
   "cell_type": "code",
   "execution_count": 147,
   "metadata": {
    "collapsed": false
   },
   "outputs": [
    {
     "data": {
      "text/plain": [
       "LinearRegression(copy_X=True, fit_intercept=True, n_jobs=1, normalize=False)"
      ]
     },
     "execution_count": 147,
     "metadata": {},
     "output_type": "execute_result"
    }
   ],
   "source": [
    "from sklearn.linear_model import LinearRegression\n",
    "regressor = LinearRegression()\n",
    "regressor.fit(X_train_sk_cat, y_train_sk_cat)"
   ]
  },
  {
   "cell_type": "code",
   "execution_count": 148,
   "metadata": {
    "collapsed": false
   },
   "outputs": [],
   "source": [
    "y_pred = regressor.predict(X_test_sk_cat)"
   ]
  },
  {
   "cell_type": "code",
   "execution_count": 180,
   "metadata": {
    "collapsed": false
   },
   "outputs": [
    {
     "data": {
      "text/plain": [
       "array([[<matplotlib.axes._subplots.AxesSubplot object at 0x11f3c7518>]], dtype=object)"
      ]
     },
     "execution_count": 180,
     "metadata": {},
     "output_type": "execute_result"
    },
    {
     "data": {
      "image/png": "[encoded data removed]",
      "text/plain": [
       "<matplotlib.figure.Figure at 0x11cbd22e8>"
      ]
     },
     "metadata": {},
     "output_type": "display_data"
    }
   ],
   "source": [
    "y_test.hist()"
   ]
  },
  {
   "cell_type": "code",
   "execution_count": 179,
   "metadata": {
    "collapsed": false
   },
   "outputs": [
    {
     "name": "stderr",
     "output_type": "stream",
     "text": [
      "/Users/andrewyaspan/anaconda3/lib/python3.5/site-packages/sklearn/utils/validation.py:515: DataConversionWarning: A column-vector y was passed when a 1d array was expected. Please change the shape of y to (n_samples, ), for example using ravel().\n",
      "  y = column_or_1d(y, warn=True)\n"
     ]
    },
    {
     "data": {
      "text/plain": [
       "array([[<matplotlib.axes._subplots.AxesSubplot object at 0x11c49e0f0>]], dtype=object)"
      ]
     },
     "execution_count": 179,
     "metadata": {},
     "output_type": "execute_result"
    },
    {
     "data": {
      "image/png": "[encoded data removed]",
      "text/plain": [
       "<matplotlib.figure.Figure at 0x11cbb8c18>"
      ]
     },
     "metadata": {},
     "output_type": "display_data"
    }
   ],
   "source": [
    "from sklearn.linear_model import LogisticRegression\n",
    "regressor = LogisticRegression()\n",
    "regressor.fit(X_train, y_train)\n",
    "\n",
    "y_pred = regressor.predict(X_test)\n",
    "\n",
    "pd.DataFrame(y_pred).hist()"
   ]
  },
  {
   "cell_type": "code",
   "execution_count": 111,
   "metadata": {
    "collapsed": true
   },
   "outputs": [],
   "source": [
    "from sklearn.feature_selection import SelectKBest\n",
    "from sklearn.feature_selection import chi2\n",
    "from sklearn.feature_selection import RFE\n",
    "from sklearn.linear_model import LogisticRegression\n",
    "from sklearn.decomposition import PCA\n",
    "from sklearn.ensemble import ExtraTreesClassifier\n",
    "np.set_printoptions(precision=3)"
   ]
  },
  {
   "cell_type": "code",
   "execution_count": null,
   "metadata": {
    "collapsed": true
   },
   "outputs": [],
   "source": []
  }
 ],
 "metadata": {
  "anaconda-cloud": {},
  "kernelspec": {
   "display_name": "Python [Root]",
   "language": "python",
   "name": "Python [Root]"
  },
  "language_info": {
   "codemirror_mode": {
    "name": "ipython",
    "version": 3
   },
   "file_extension": ".py",
   "mimetype": "text/x-python",
   "name": "python",
   "nbconvert_exporter": "python",
   "pygments_lexer": "ipython3",
   "version": "3.5.2"
  }
 },
 "nbformat": 4,
 "nbformat_minor": 2
}
